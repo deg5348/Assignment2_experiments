{
  "cells": [
    {
      "cell_type": "code",
      "execution_count": 65,
      "metadata": {
        "colab": {
          "base_uri": "https://localhost:8080/"
        },
        "id": "BT8YewyN2M5U",
        "outputId": "2a5ae5f3-8e6e-4afe-e30c-83ff4d4f6971"
      },
      "outputs": [
        {
          "name": "stdout",
          "output_type": "stream",
          "text": [
            "Requirement already satisfied: python-docx in /Users/debanilguha/opt/anaconda3/envs/deb/lib/python3.11/site-packages (1.1.2)\n",
            "Requirement already satisfied: lxml>=3.1.0 in /Users/debanilguha/opt/anaconda3/envs/deb/lib/python3.11/site-packages (from python-docx) (5.2.2)\n",
            "Requirement already satisfied: typing-extensions>=4.9.0 in /Users/debanilguha/opt/anaconda3/envs/deb/lib/python3.11/site-packages (from python-docx) (4.9.0)\n"
          ]
        }
      ],
      "source": [
        "!pip install python-docx"
      ]
    },
    {
      "cell_type": "code",
      "execution_count": 66,
      "metadata": {},
      "outputs": [],
      "source": [
        "import numpy as np"
      ]
    },
    {
      "cell_type": "code",
      "execution_count": 67,
      "metadata": {
        "id": "Upz9CWEx2kou"
      },
      "outputs": [],
      "source": [
        "from docx import Document\n",
        "from docx.shared import Pt\n",
        "from docx.enum.text import WD_ALIGN_PARAGRAPH\n",
        "\n",
        "\n",
        "class CustomDocument():\n",
        "  def __init__(self) -> None:\n",
        "    self.content=\"\"\n",
        "    self.mathContentArray = []\n",
        "    self.contentArray = []\n",
        "    self.contentaction = \"\"\n",
        "    self.doc = Document()\n",
        "    \n",
        "\n",
        "  def fullcontent(self,file_name=\"output.docx\",font_name='Times New Roman', font_size=10):\n",
        "    \"\"\"_summary_ To load the full python file as docx\n",
        "\n",
        "    Args:\n",
        "        file_name (str, optional): Name of File. Defaults to \"output.docx\".\n",
        "        font_name (str, optional): _description_. Defaults to 'Times New Roman'.\n",
        "        font_size (int, optional): _description_. Defaults to 10.\n",
        "    \"\"\"\n",
        "      # Create a new Document\n",
        "      # Add each line of content to the document\n",
        "    try:\n",
        "      \n",
        "      papra =self.doc.add_paragraph(\"\\n\".join(self.contentArray))\n",
        "      if len(papra.runs) > 0:\n",
        "        papra_run = papra.runs[0]\n",
        "        papra_run.font.name = font_name\n",
        "        papra_run.font.size = Pt(font_size) \n",
        "\n",
        "        # Save the document to the specified file\n",
        "      self.doc.save(file_name)\n",
        "      self.contentArray=[]\n",
        "    except Exception as e:\n",
        "      print(\"Exception : \",e)\n",
        "\n",
        "  def contentmatrix(self,row,col,sumresult):\n",
        "    # contentModify = \"\\n\\nV^*_[{row}][{col}] = max({content})  = {res} \\n\".format(row=row+1,col=col+1,content=self.contentaction,res=sumresult)\n",
        "    contentModify = \"\\n\\nV^*_[{row}][{col}] = max({content})  = {res} \\n\".format(row=row+1,col=col+1,content=self.contentaction,res=sumresult)\n",
        "    self.contentArray.append(\"----------------------------------------------------------------------------------------------\")\n",
        "    self.contentArray.append(contentModify)\n",
        "    self.contentaction=\"\"\n",
        "    \n",
        "  def addTable(self,data, heading, font_name='Times New Roman', font_size=10):\n",
        "    heading_paragraph = self.doc.add_heading(level=1)\n",
        "    heading_run = heading_paragraph.add_run(heading)\n",
        "    heading_run.font.name = font_name\n",
        "    heading_run.font.size = Pt(font_size + 2)  \n",
        "    heading_run.bold = True\n",
        "    \n",
        "    # Add a table with the number of rows and columns based on the data\n",
        "    table = self.doc.add_table(rows=len(data), cols=len(data[0]))\n",
        "    table.style = 'Table Grid'  # Optional: Apply a table style\n",
        "    \n",
        "    # Populate the table with data and format the text\n",
        "    for i, row in enumerate(data):\n",
        "        for j, cell_text in enumerate(row):\n",
        "            cell = table.cell(i, j)\n",
        "            paragraph = cell.add_paragraph(str(cell_text))\n",
        "            run = paragraph.runs[0]\n",
        "            run.font.name = font_name\n",
        "            run.font.size = Pt(font_size)\n",
        "            run.bold = True  # Make the text bold\n",
        "            paragraph.alignment = WD_ALIGN_PARAGRAPH.CENTER\n",
        "            \n",
        "    # self.contentArray.append(table)\n",
        "    \n",
        "  def enwrapactions(self,action,sumValue):\n",
        "    \"\"\"_summary_ To Put in the document actions and \n",
        "\n",
        "    Args:\n",
        "        action (_type_): Actions agent takes\n",
        "        sumValue (_type_): The Sum value received by Bellman Equation\n",
        "    \"\"\"\n",
        "    self.contentaction += \"\\n{act}<{cont} = {sumValue}>\\n,\".format(act=action,cont=self.content,sumValue=sumValue[action])\n",
        "    self.content=\"\"\n",
        "     \n"
      ]
    },
    {
      "cell_type": "markdown",
      "metadata": {
        "id": "7ZXGq5Nx7XYt"
      },
      "source": [
        "The equation is V<sub>k</sub> = max(up,down,left,right)\n",
        "<br>\n",
        "up=0,down=1,right=2,left=3\n",
        "<br>\n",
        "$$\n",
        "V^*_s = \\ P(s'|a,s) \\left[ R_{s,a,s'} + \\gamma V^*_{s'} \\right]\n",
        "$$\n",
        "\n"
      ]
    },
    {
      "cell_type": "code",
      "execution_count": 68,
      "metadata": {},
      "outputs": [],
      "source": [
        "GRID_SIZE = 4"
      ]
    },
    {
      "cell_type": "code",
      "execution_count": 69,
      "metadata": {},
      "outputs": [],
      "source": [
        "def is_valid_grid(row,col,grid_size):\n",
        "    return 0 <= row < grid_size and 0 <= col < grid_size"
      ]
    },
    {
      "cell_type": "code",
      "execution_count": 70,
      "metadata": {},
      "outputs": [],
      "source": [
        "\n",
        "def next_position(row,col,action):\n",
        "  \"\"\"_summary_ Send the position the agent takes\n",
        "\n",
        "  Args:\n",
        "      row (_type_): Row of answer matrix\n",
        "      col (_type_): Column of answer matrix\n",
        "      action (_type_): Which action to take\n",
        "      rewardmatrix (_type_): Matrix to  receive \n",
        "\n",
        "  Returns:\n",
        "      _type_: _description_\n",
        "  \"\"\"\n",
        "  p_row = row\n",
        "  p_col = col\n",
        "  if action == 0:\n",
        "    p_row -= 1\n",
        "    \n",
        "  if action == 1:\n",
        "    p_row +=1\n",
        "    \n",
        "  if action == 2:\n",
        "    p_col +=1\n",
        "    \n",
        "  if action == 3:\n",
        "    p_col -=1\n",
        "    \n",
        "  return p_row,p_col"
      ]
    },
    {
      "cell_type": "code",
      "execution_count": 71,
      "metadata": {},
      "outputs": [],
      "source": [
        "def valueIterations(GAMMA, Trans, rewardmatrix, ansmatrix, QArr, actions,iterations=1):\n",
        "    \n",
        "    for V in range(0,iterations):\n",
        "      customdocument = CustomDocument()\n",
        "      temp_ansmatrix = np.copy(ansmatrix)\n",
        "      \n",
        "      # Traverse row and column\n",
        "      for row in range(0,len(rewardmatrix)):\n",
        "        for col in range(0,len(rewardmatrix)):\n",
        "          # Initialize the sum\n",
        "          sum = {\"up\":0,\"down\":0,\"right\":0,\"left\":0}\n",
        "          # We reach goal state the value will not be changed\n",
        "          if (row,col) == (3,3): \n",
        "            continue\n",
        "          for idx,(key,action_value) in enumerate(actions.items()):\n",
        "            plus = '+' if action_value < len(actions)-1 else ''\n",
        "            next_row,next_col = next_position(row,col,action_value)\n",
        "            #Bellman Equation used for each actions\n",
        "            if is_valid_grid(row=next_row,col=next_col,grid_size=GRID_SIZE):\n",
        "              customdocument.content += \"({t1} *[{t2} + {t3}*{t4}]){p}\".format(t1=Trans[\"curr\"],t2=float(rewardmatrix[next_row][next_col]),t3=GAMMA,t4=float(ansmatrix[next_row][next_col]),p=plus)\n",
        "              sum[key] += Trans[\"curr\"]*(rewardmatrix[next_row][next_col] + GAMMA*ansmatrix[next_row][next_col])\n",
        "            else:\n",
        "              customdocument.content +=\"({t1} *[{t2} + {t3}*{t4}]){p}\".format(t1=Trans[\"other\"],t2=float(rewardmatrix[row][col]),t3=GAMMA,t4=float(ansmatrix[row][col]),p=plus)\n",
        "              sum[key] +=Trans[\"curr\"]*(rewardmatrix[row][col] + GAMMA*ansmatrix[row][col])\n",
        "              \n",
        "            \n",
        "            # Method for Other Actions\n",
        "            for idx,(next_key,next_action_value) in enumerate(actions.items()):\n",
        "              if next_key != key:\n",
        "                plus = '+' if next_action_value < len(actions)-1 else ''\n",
        "                next_row,next_col = next_position(row,col,next_action_value)\n",
        "                if is_valid_grid(row=next_row,col=next_col,grid_size=GRID_SIZE):\n",
        "                  customdocument.content += \"({t1} *[{t2} + {t3}*{t4}]){p}\".format(t1=Trans[\"other\"],t2=float(rewardmatrix[next_row][next_col]),t3=GAMMA,t4=float(ansmatrix[next_row][next_col]),p=plus)\n",
        "                  sum[key] += Trans[\"other\"]*(rewardmatrix[next_row][next_col] + GAMMA*ansmatrix[next_row][next_col])\n",
        "                else:\n",
        "                  customdocument.content +=\"({t1} *[{t2} + {t3}*{t4}]){p}\".format(t1=Trans[\"other\"],t2=float(rewardmatrix[row][col]),t3=GAMMA,t4=float(ansmatrix[row][col]),p=plus)\n",
        "                  sum[key] += Trans[\"other\"]*(rewardmatrix[row][col] + GAMMA*ansmatrix[row][col])\n",
        "            \n",
        "            customdocument.enwrapactions(key,sum)   \n",
        "          \n",
        "          # Receive Q Values of 5 th Iteration                    \n",
        "          maxSum = max(sum.values())\n",
        "          customdocument.contentmatrix(row,col,maxSum)\n",
        "        \n",
        "          temp_ansmatrix[row][col]=float(\"{:.3f}\".format(maxSum))\n",
        "          \n",
        "        if V == 4:\n",
        "          QArr.append( \"\\n,\".join(\"{:.3f}\".format(e) for e in  list(sum.values())) )\n",
        "          # print(f\"\")\n",
        "      head = \"V_{no}\".format(no=V+1)\n",
        "      ansmatrix = np.copy(temp_ansmatrix)\n",
        "      customdocument.addTable(ansmatrix,heading=head)\n",
        "      customdocument.fullcontent(\"{head}.docx\".format(head=head))\n",
        "      \n",
        "    return QArr\n",
        "\n",
        "\n",
        "#------------------------------------------------------------------------------------------------------------------------------------------\n",
        "import numpy as np\n",
        "GAMMA = 0.9\n",
        "\n",
        "Trans = {\"curr\":0.7,\"other\":0.1,\"terminal\":1} # Transition Functions where curr is intended state, other is the unintended state , terminal is the terminal state \n",
        "\n",
        "\"\"\"\n",
        "# s₁,₁  s₁,₂  s₁,₃  s₁,₄\n",
        "# s₂,₁  s₂,₂  s₂,₃  s₂,₄\n",
        "# s₃,₁  *s₃,₂  s₃,₃  *s₃,₄\n",
        "# s₄,₁  s₄,₂  s₄,₃  s₄,₄\n",
        "\"\"\"\n",
        "# States defined for Rewards\n",
        "rewardmatrix = np.full((GRID_SIZE, GRID_SIZE), -0.1)\n",
        "rewardmatrix[2, 1] = -1  # Hell state s3,2\n",
        "rewardmatrix[2, 3] = -1  # Hell state s3,4\n",
        "rewardmatrix[3, 3] = 10\n",
        "\n",
        "# Initial state of the Answer Matrix\n",
        "ansmatrix = np.zeros((GRID_SIZE, GRID_SIZE))\n",
        "ansmatrix[2, 1] = -1  \n",
        "ansmatrix[2, 3] = -1  \n",
        "ansmatrix[3, 3] = 10\n",
        "\n",
        "QArr=[]\n",
        "\n",
        "\n",
        "\n",
        "prevV = 0\n",
        "\n",
        "actions= {\"up\":0,\"down\":1,\"right\":2,\"left\":3}\n",
        "sum = {\"up\":0,\"down\":0,\"right\":0,\"left\":0}\n",
        "\n",
        "\n",
        "QArrChange = valueIterations(GAMMA, Trans, rewardmatrix, ansmatrix, QArr, actions,iterations=5)"
      ]
    },
    {
      "cell_type": "code",
      "execution_count": 72,
      "metadata": {},
      "outputs": [
        {
          "name": "stdout",
          "output_type": "stream",
          "text": [
            "['5.823\\n,8.420\\n,5.823\\n,4.720', '6.877\\n,11.746\\n,9.474\\n,7.228', '11.313\\n,16.771\\n,13.584\\n,12.043', '0.000\\n,0.000\\n,0.000\\n,0.000']\n"
          ]
        }
      ],
      "source": [
        "\n",
        "try:\n",
        "    print(QArrChange)\n",
        "    reshapedArr = np.array(QArrChange).reshape(2,2)\n",
        "    Qdocument = CustomDocument()\n",
        "    headQ = \"Q_5\"\n",
        "    Qdocument.addTable(reshapedArr,heading=headQ)\n",
        "    Qdocument.fullcontent(\"{head}.docx\".format(head=headQ))\n",
        "except Exception as e:\n",
        "    print(\"Exception caused\",e)\n"
      ]
    }
  ],
  "metadata": {
    "colab": {
      "provenance": []
    },
    "kernelspec": {
      "display_name": "Python 3",
      "name": "python3"
    },
    "language_info": {
      "codemirror_mode": {
        "name": "ipython",
        "version": 3
      },
      "file_extension": ".py",
      "mimetype": "text/x-python",
      "name": "python",
      "nbconvert_exporter": "python",
      "pygments_lexer": "ipython3",
      "version": "3.11.8"
    }
  },
  "nbformat": 4,
  "nbformat_minor": 0
}
